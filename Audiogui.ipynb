{
 "cells": [
  {
   "cell_type": "code",
   "execution_count": 1,
   "metadata": {},
   "outputs": [
    {
     "ename": "ModuleNotFoundError",
     "evalue": "No module named 'pygame'",
     "output_type": "error",
     "traceback": [
      "\u001b[0;31m---------------------------------------------------------------------------\u001b[0m",
      "\u001b[0;31mModuleNotFoundError\u001b[0m                       Traceback (most recent call last)",
      "\u001b[0;32m<ipython-input-1-e73859e594a2>\u001b[0m in \u001b[0;36m<module>\u001b[0;34m()\u001b[0m\n\u001b[1;32m      3\u001b[0m \u001b[0;32mfrom\u001b[0m \u001b[0mtkinter\u001b[0m \u001b[0;32mimport\u001b[0m \u001b[0;34m*\u001b[0m\u001b[0;34m\u001b[0m\u001b[0;34m\u001b[0m\u001b[0m\n\u001b[1;32m      4\u001b[0m \u001b[0;32mfrom\u001b[0m \u001b[0mtkinter\u001b[0m \u001b[0;32mimport\u001b[0m \u001b[0mmessagebox\u001b[0m\u001b[0;34m\u001b[0m\u001b[0;34m\u001b[0m\u001b[0m\n\u001b[0;32m----> 5\u001b[0;31m \u001b[0;32mimport\u001b[0m \u001b[0mpygame\u001b[0m \u001b[0;32mas\u001b[0m \u001b[0mpg\u001b[0m\u001b[0;34m\u001b[0m\u001b[0;34m\u001b[0m\u001b[0m\n\u001b[0m\u001b[1;32m      6\u001b[0m \u001b[0;32mfrom\u001b[0m \u001b[0mpygame\u001b[0m \u001b[0;32mimport\u001b[0m  \u001b[0mmixer\u001b[0m\u001b[0;34m\u001b[0m\u001b[0;34m\u001b[0m\u001b[0m\n\u001b[1;32m      7\u001b[0m \u001b[0;31m# import speech_recognition as sr\u001b[0m\u001b[0;34m\u001b[0m\u001b[0;34m\u001b[0m\u001b[0;34m\u001b[0m\u001b[0m\n",
      "\u001b[0;31mModuleNotFoundError\u001b[0m: No module named 'pygame'"
     ]
    }
   ],
   "source": [
    "import tkinter as tk\n",
    "from tkinter import ttk\n",
    "from tkinter import *\n",
    "from tkinter import messagebox\n",
    "import pygame as pg\n",
    "from pygame import  mixer\n",
    "# import speech_recognition as sr\n",
    "import time\n",
    "import os"
   ]
  },
  {
   "cell_type": "code",
   "execution_count": null,
   "metadata": {},
   "outputs": [],
   "source": [
    "for i in ['Angry','Disgust','Fear','Happy','Neutral','Sad','Suprise']:\n",
    "    try:\n",
    "        os.mkdir(i)\n",
    "    \n",
    "    except:\n",
    "        pass\n",
    "\n"
   ]
  },
  {
   "cell_type": "code",
   "execution_count": null,
   "metadata": {},
   "outputs": [],
   "source": [
    "root=tk.Toplevel()\n",
    "root.title('Recorder')\n",
    "root.iconbitmap('@mic.xbm')\n",
    "emo=tk.StringVar(root)\n",
    "style=ttk.Style()\n",
    "style.theme_use('classic')"
   ]
  },
  {
   "cell_type": "code",
   "execution_count": null,
   "metadata": {},
   "outputs": [],
   "source": [
    "photo=PhotoImage(file='microphone.png').subsample(35,35)\n",
    "\n",
    "label1=ttk.Label(root,text='Query')\n",
    "label1.grid(row=0,column=0)\n",
    "\n",
    "entry1=ttk.Entry(root,width=40)\n",
    "entry1.grid(row=0,column=1,columnspan=4)\n",
    "\n",
    "\n",
    "btn2=tk.StringVar()"
   ]
  },
  {
   "cell_type": "code",
   "execution_count": null,
   "metadata": {},
   "outputs": [],
   "source": []
  },
  {
   "cell_type": "code",
   "execution_count": null,
   "metadata": {},
   "outputs": [],
   "source": [
    "def save_file():\n",
    "    if len(entry2.get())==0:\n",
    "        messagebox.showinfo('Error',\"Enter Speaker's Name\")\n",
    "        \n",
    "    else:\n",
    "        list=os.listdir(emo.get())\n",
    "        os.rename('microphone-result.wav',emo.get()+\"/\"+entry2.get()+str(len(list))+'.wav')\n",
    "        messagebox.showinfo('Saved','Audio Saved as:'+emo.get()+\"/\"+entry2.get()+str(len(list))+'.wav')\n",
    "    "
   ]
  },
  {
   "cell_type": "code",
   "execution_count": null,
   "metadata": {},
   "outputs": [],
   "source": [
    "def callback():\n",
    "    try:\n",
    "        os.system(\"start microphone-result.wav\")\n",
    "        \n",
    "    except:\n",
    "        print(\"No audio file found\")"
   ]
  },
  {
   "cell_type": "code",
   "execution_count": null,
   "metadata": {},
   "outputs": [],
   "source": [
    "def buttonclick():\n",
    "    mixer.init()\n",
    "    mixer.music.load('chime1.mp3')\n",
    "    mixer.music.play()\n",
    "    with Microphone() as source:\n",
    "        \n",
    "        audio=r.listen(source,timeout=5)\n",
    "    \n",
    "#     r=sr.Recognizer()\n",
    "#     r.pause_threshold=0.7\n",
    "#     r.energy_threshold=400\n",
    "#     with sr.Microphone() as source:\n",
    "#         try:\n",
    "#             audio=r.listen(source,timeout=5)\n",
    "#             message=str(r.recognize_google(audio))\n",
    "#             mixer.music.load('chime2.mp3')\n",
    "#             mixer.music.play()\n",
    "#             entry1.focus()\n",
    "#             entry1.delete(0,END)\n",
    "#             entry1.insert(0,message)\n",
    "            \n",
    "#         except sr.UnknownValueError:\n",
    "#             print(\"Google Speech Recognition couldnot understand Audio\")\n",
    "            \n",
    "#         except sr.RequestError as e:\n",
    "#             print('Could not Request Result from Google Speech Recogniser Service')\n",
    "        \n",
    "#         else:\n",
    "#             pass\n",
    "     \n",
    "    with open('microphone-results.wav','wb') as f:\n",
    "        f.write(audio.get_wave_data())"
   ]
  },
  {
   "cell_type": "code",
   "execution_count": null,
   "metadata": {},
   "outputs": [],
   "source": [
    "MyButton1 = ttk.Button(root, text='Play', width=10, command=callback)\n",
    "MyButton1.grid(row=0, column=6)\n",
    "\n",
    "label2 = ttk.Label(root, text='Speaker Name')\n",
    "label2.grid(row=1, column=0, columnspan=2)\n",
    "entry2 = ttk.Entry(root, width=40)\n",
    "entry2.grid(row=2, column=0, columnspan=2)\n",
    "\n",
    "label3 = ttk.Label(root, text='Emotion')\n",
    "label3.grid(row=1, column=3)\n",
    "emo.set('Angry')"
   ]
  },
  {
   "cell_type": "code",
   "execution_count": null,
   "metadata": {},
   "outputs": [],
   "source": [
    "popupMenu = tk.OptionMenu(root, emo, *{'Angry':'Angry', 'Disgust':'Disgust', 'Fear':'Fear', 'Happy':'Happy',\n",
    "                                       'Neutral':'Neutral', 'Sad':'Sad','Suprise':'Suprise'})\n",
    "popupMenu.grid(row=2, column=3)\n",
    "\n",
    "MyButton1 = ttk.Button(root, text='Save Audio', width=10, command=save_file)\n",
    "MyButton1.grid(row=2, column=4)\n",
    "\n",
    "MyButton3 = ttk.Button(root, image=photo, command=buttonclick)#, activebackground='#c1bfbf', overrelief='groove', relief='sunken')\n",
    "MyButton3.grid(row=0, column=5)\n",
    "\n",
    "root.wm_attributes('-topmost', 1)\n",
    "btn2.set('google')\n",
    "root.mainloop()"
   ]
  },
  {
   "cell_type": "code",
   "execution_count": null,
   "metadata": {},
   "outputs": [],
   "source": []
  }
 ],
 "metadata": {
  "kernelspec": {
   "display_name": "Python 3",
   "language": "python",
   "name": "python3"
  },
  "language_info": {
   "codemirror_mode": {
    "name": "ipython",
    "version": 3
   },
   "file_extension": ".py",
   "mimetype": "text/x-python",
   "name": "python",
   "nbconvert_exporter": "python",
   "pygments_lexer": "ipython3",
   "version": "3.6.10"
  }
 },
 "nbformat": 4,
 "nbformat_minor": 2
}
