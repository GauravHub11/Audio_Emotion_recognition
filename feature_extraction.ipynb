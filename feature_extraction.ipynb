{
 "cells": [
  {
   "cell_type": "code",
   "execution_count": 1,
   "metadata": {},
   "outputs": [],
   "source": [
    "# feature_extracting\n",
    "import librosa\n",
    "import pandas as pd\n",
    "import numpy as np"
   ]
  },
  {
   "cell_type": "code",
   "execution_count": 2,
   "metadata": {},
   "outputs": [],
   "source": [
    "def get_audio_features(audio_path,sampling_rate):\n",
    "    X, sample_rate = librosa.load(audio_path ,res_type='kaiser_fast',duration=2.5,sr=sampling_rate*2,offset=0.5)\n",
    "    sample_rate = np.array(sample_rate)\n",
    "\n",
    "    y_harmonic, y_percussive = librosa.effects.hpss(X)\n",
    "    pitches, magnitudes = librosa.core.pitch.piptrack(y=X, sr=sample_rate)\n",
    "\n",
    "    mfccs = np.mean(librosa.feature.mfcc(y=X,sr=sample_rate,n_mfcc=13),axis=1)\n",
    "\n",
    "    pitches = np.trim_zeros(np.mean(pitches,axis=1))[:20]\n",
    "\n",
    "    magnitudes = np.trim_zeros(np.mean(magnitudes,axis=1))[:20]\n",
    "\n",
    "    C = np.mean(librosa.feature.chroma_cqt(y=y_harmonic, sr=sampling_rate),axis=1)\n",
    "    \n",
    "    return [mfccs, pitches, magnitudes, C]"
   ]
  },
  {
   "cell_type": "code",
   "execution_count": 3,
   "metadata": {},
   "outputs": [],
   "source": [
    "def get_features_dataframe(dataframe, sampling_rate):\n",
    "    labels = pd.DataFrame(dataframe['label'])\n",
    "    \n",
    "    features  = pd.DataFrame(columns=['mfcc','pitches','magnitudes','C'])\n",
    "    for index, audio_path in enumerate(dataframe['path']):\n",
    "        features.loc[index] = get_audio_features(audio_path, sampling_rate)\n",
    "    \n",
    "    mfcc = features.mfcc.apply(pd.Series)\n",
    "    pit = features.pitches.apply(pd.Series)\n",
    "    mag = features.magnitudes.apply(pd.Series)\n",
    "    C = features.C.apply(pd.Series)\n",
    "    \n",
    "    combined_features = pd.concat([mfcc,pit,mag,C],axis=1,ignore_index=True)\n",
    "\n",
    "    return combined_features, labels "
   ]
  },
  {
   "cell_type": "code",
   "execution_count": null,
   "metadata": {},
   "outputs": [],
   "source": []
  }
 ],
 "metadata": {
  "kernelspec": {
   "display_name": "Python 3",
   "language": "python",
   "name": "python3"
  },
  "language_info": {
   "codemirror_mode": {
    "name": "ipython",
    "version": 3
   },
   "file_extension": ".py",
   "mimetype": "text/x-python",
   "name": "python",
   "nbconvert_exporter": "python",
   "pygments_lexer": "ipython3",
   "version": "3.7.5"
  }
 },
 "nbformat": 4,
 "nbformat_minor": 2
}
