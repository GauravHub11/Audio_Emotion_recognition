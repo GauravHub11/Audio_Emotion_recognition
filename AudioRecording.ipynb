{
 "cells": [
  {
   "cell_type": "code",
   "execution_count": 1,
   "metadata": {},
   "outputs": [],
   "source": [
    "import tkinter as tk\n",
    "import recorder"
   ]
  },
  {
   "cell_type": "code",
   "execution_count": 2,
   "metadata": {},
   "outputs": [],
   "source": [
    "def start():\n",
    "    global running\n",
    "    \n",
    "    if running is None:\n",
    "        print('already running')\n",
    "        \n",
    "    else:\n",
    "        running=rec.open('record.wav','wb')\n",
    "        running.start_recording()"
   ]
  },
  {
   "cell_type": "code",
   "execution_count": 3,
   "metadata": {},
   "outputs": [],
   "source": [
    "def stop():\n",
    "    global running\n",
    "    \n",
    "    if running is None:\n",
    "        running.stop_recording()\n",
    "        running.close()\n",
    "        running=None\n",
    "        \n",
    "    else:\n",
    "        print(\"Not Running\")\n",
    "        "
   ]
  },
  {
   "cell_type": "code",
   "execution_count": 5,
   "metadata": {},
   "outputs": [
    {
     "name": "stdout",
     "output_type": "stream",
     "text": [
      "already running\n",
      "already running\n"
     ]
    },
    {
     "name": "stderr",
     "output_type": "stream",
     "text": [
      "Exception in Tkinter callback\n",
      "Traceback (most recent call last):\n",
      "  File \"/home/gaurav/anaconda3/envs/myenv/lib/python3.7/tkinter/__init__.py\", line 1705, in __call__\n",
      "    return self.func(*args)\n",
      "  File \"<ipython-input-3-35daebf3d818>\", line 5, in stop\n",
      "    running.stop_recording()\n",
      "AttributeError: 'NoneType' object has no attribute 'stop_recording'\n"
     ]
    }
   ],
   "source": [
    "#-----Main-----#\n",
    "rec=recorder.Recorder(channels=2)\n",
    "running=None\n",
    "\n",
    "root=tk.Tk()\n",
    "\n",
    "\n",
    "button_rec=tk.Button(root,text='Start',command=start)\n",
    "button_rec.pack()\n",
    "\n",
    "button_stop=tk.Button(root,text='Stop',command=stop)\n",
    "button_stop.pack()\n",
    "\n",
    "\n",
    "root.mainloop()"
   ]
  },
  {
   "cell_type": "code",
   "execution_count": null,
   "metadata": {},
   "outputs": [],
   "source": []
  }
 ],
 "metadata": {
  "kernelspec": {
   "display_name": "Python 3",
   "language": "python",
   "name": "python3"
  },
  "language_info": {
   "codemirror_mode": {
    "name": "ipython",
    "version": 3
   },
   "file_extension": ".py",
   "mimetype": "text/x-python",
   "name": "python",
   "nbconvert_exporter": "python",
   "pygments_lexer": "ipython3",
   "version": "3.7.5"
  }
 },
 "nbformat": 4,
 "nbformat_minor": 2
}
